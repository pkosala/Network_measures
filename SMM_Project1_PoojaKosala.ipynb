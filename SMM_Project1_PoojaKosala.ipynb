{
 "cells": [
  {
   "cell_type": "markdown",
   "metadata": {},
   "source": [
    "# Get the data using scrapper and save to file \"data.csv\""
   ]
  },
  {
   "cell_type": "code",
   "execution_count": null,
   "metadata": {},
   "outputs": [
    {
     "name": "stdout",
     "output_type": "stream",
     "text": [
      "http://export.arxiv.org/oai2?verb=ListRecords&from=2017-08-01&until=2018-08-01&metadataPrefix=arXiv&set=cs\n",
      "fetching up to  1000 records...\n"
     ]
    }
   ],
   "source": [
    "import arxivscraper\n",
    "import pandas as pd\n",
    "scraper = arxivscraper.Scraper(category='cs', date_from='2017-08-01',date_until='2018-08-01')\n",
    "output = scraper.scrape()\n",
    "\n",
    "cols = ['id', 'title', 'categories', 'abstract', 'doi', 'created', 'updated', 'authors']\n",
    "df = pd.DataFrame(output, columns=cols)\n",
    "df.to_csv('data.csv')"
   ]
  },
  {
   "cell_type": "markdown",
   "metadata": {},
   "source": [
    "# import data from \"data.csv\" and filter for \"math\" category"
   ]
  },
  {
   "cell_type": "code",
   "execution_count": 149,
   "metadata": {},
   "outputs": [
    {
     "name": "stdout",
     "output_type": "stream",
     "text": [
      "(42988, 9)\n",
      "(7838, 9)\n"
     ]
    }
   ],
   "source": [
    "import pandas as pd\n",
    "import itertools\n",
    "import ast\n",
    "arxiv_df = pd.read_csv(\"data.csv\")\n",
    "print(arxiv_df.shape)\n",
    "arxiv_df = arxiv_df[arxiv_df['categories'].str.contains(\"math\")]\n",
    "print(arxiv_df.shape)"
   ]
  },
  {
   "cell_type": "markdown",
   "metadata": {},
   "source": [
    "# Generating edge list:"
   ]
  },
  {
   "cell_type": "code",
   "execution_count": 150,
   "metadata": {},
   "outputs": [],
   "source": [
    "def generate_node_list(arxiv_df):\n",
    "    authors_edge_list = []\n",
    "    for x in list(arxiv_df['authors'].unique()):\n",
    "#         Generating edge combinations from comma seperated list of authors\n",
    "        for y in list(itertools.combinations(sorted(ast.literal_eval(x)),2)):\n",
    "            authors_edge_list.append([x,y[0],y[1]])\n",
    "\n",
    "    author_edges_df = pd.DataFrame.from_records(authors_edge_list)\n",
    "    author_edges_df.columns = ['authors','author_x','author_y']\n",
    "#     Merging the edge list back to original data\n",
    "    merged_df = pd.merge(arxiv_df, author_edges_df, left_on='authors', right_on='authors')\n",
    "\n",
    "    merged_df = merged_df[merged_df['author_x']!=merged_df['author_y']]\n",
    "\n",
    "#     Assign weights to edges based on distinct number of publications authors' share (publication id is used)\n",
    "    edgeList_df = merged_df.groupby(['author_x','author_y']).agg({\"id\": lambda x: x.nunique()}).reset_index()\n",
    "    edgeList_df.columns = ['author_x','author_y','weight']\n",
    "\n",
    "#     Finally returning data frame with edges and weights\n",
    "    return edgeList_df"
   ]
  },
  {
   "cell_type": "markdown",
   "metadata": {},
   "source": [
    "# Generating Graph for all the authors:"
   ]
  },
  {
   "cell_type": "code",
   "execution_count": 151,
   "metadata": {},
   "outputs": [],
   "source": [
    "import networkx as nx\n",
    "import matplotlib.pyplot as plt\n",
    "All_Node_Graph = nx.Graph()"
   ]
  },
  {
   "cell_type": "code",
   "execution_count": 152,
   "metadata": {},
   "outputs": [
    {
     "name": "stdout",
     "output_type": "stream",
     "text": [
      "No. Of Nodes:8232\n",
      "No. Of Edges:22260\n"
     ]
    }
   ],
   "source": [
    "All_Edges = generate_node_list(arxiv_df) # calling the function to generate edge-weight list\n",
    "All_Nodes = set(list(All_Edges[\"author_x\"]))\n",
    "All_Nodes.update(list(All_Edges[\"author_y\"]))\n",
    "\n",
    "print(\"No. Of Nodes:\" + str(len(All_Nodes)))\n",
    "print(\"No. Of Edges:\" + str(All_Edges.shape[0]))\n"
   ]
  },
  {
   "cell_type": "markdown",
   "metadata": {},
   "source": [
    "<b> Add Nodes and Edges to Graph </b>"
   ]
  },
  {
   "cell_type": "code",
   "execution_count": 153,
   "metadata": {},
   "outputs": [],
   "source": [
    "All_Node_Graph.add_nodes_from(list(All_Nodes))\n",
    "All_Node_Graph.add_weighted_edges_from(list(All_Edges.itertuples(index=False)))"
   ]
  },
  {
   "cell_type": "code",
   "execution_count": 154,
   "metadata": {},
   "outputs": [],
   "source": [
    "# Filtering for nodes with neighbor count between 10-15, also adding all its neighbors to the final list\n",
    "Final_Nodes = set([])\n",
    "for eachNode in All_Node_Graph.nodes:\n",
    "    if 10<=(len(list(All_Node_Graph.neighbors(eachNode))))<=15:\n",
    "        Final_Nodes.add(eachNode)\n",
    "        Final_Nodes.update(All_Node_Graph.neighbors(eachNode))\n",
    "    if len(Final_Nodes)>200:\n",
    "        break\n",
    "    else:\n",
    "        continue"
   ]
  },
  {
   "cell_type": "code",
   "execution_count": 155,
   "metadata": {},
   "outputs": [],
   "source": [
    "# Generating a new graph from the list of nodes identified in previous step. This reduces the size of our graph\n",
    "# All the edges between these nodes are also added to the \"New_Graph\"\n",
    "New_Graph = All_Node_Graph.subgraph(Final_Nodes)"
   ]
  },
  {
   "cell_type": "markdown",
   "metadata": {},
   "source": [
    "# Save the graph to Gephi "
   ]
  },
  {
   "cell_type": "code",
   "execution_count": 156,
   "metadata": {},
   "outputs": [],
   "source": [
    "# Saving the graph to gephi format for better visualization\n",
    "nx.write_gexf(New_Graph, \"gephiGraph.gexf\")"
   ]
  },
  {
   "cell_type": "markdown",
   "metadata": {},
   "source": [
    "# Degree Distribution:"
   ]
  },
  {
   "cell_type": "code",
   "execution_count": 157,
   "metadata": {},
   "outputs": [
    {
     "data": {
      "text/plain": [
       "Text(0.5,0,'Degree')"
      ]
     },
     "execution_count": 157,
     "metadata": {},
     "output_type": "execute_result"
    },
    {
     "data": {
      "image/png": "[encoded data removed]",
      "text/plain": [
       "<Figure size 432x288 with 1 Axes>"
      ]
     },
     "metadata": {},
     "output_type": "display_data"
    }
   ],
   "source": [
    "import collections\n",
    "degree_sequence = sorted([d for n, d in New_Graph.degree()], reverse=True)  # degree sequence\n",
    "# print \"Degree sequence\", degree_sequence\n",
    "degreeCount = collections.Counter(degree_sequence)\n",
    "deg, cnt = zip(*degreeCount.items())\n",
    "\n",
    "\n",
    "fig, ax = plt.subplots()\n",
    "plt.bar(deg, cnt, width=0.40, color='b')\n",
    "\n",
    "plt.title(\"Degree Histogram\")\n",
    "plt.ylabel(\"Count of Nodes\")\n",
    "plt.xlabel(\"Degree\")\n",
    "\n",
    "# nx.average_degree_connectivity(New_Graph)"
   ]
  },
  {
   "cell_type": "markdown",
   "metadata": {},
   "source": [
    "# Clustering Co-efficient"
   ]
  },
  {
   "cell_type": "code",
   "execution_count": 158,
   "metadata": {},
   "outputs": [],
   "source": [
    "def dictionary_to_listOfCounts(dict):\n",
    "    List = []\n",
    "    for key, value in dict.items():\n",
    "        if isinstance(key, float):\n",
    "            x = round(key, 4)\n",
    "            temp = [x,value]\n",
    "            List.append(temp)\n",
    "        else:\n",
    "            temp = [key,value]\n",
    "            List.append(temp)\n",
    "\n",
    "    sequence = sorted([d for n, d in List], reverse=True)  # degree sequence\n",
    "    valueCount = collections.Counter(sequence)\n",
    "    values, cnt = zip(*valueCount.items())\n",
    "    return values, cnt"
   ]
  },
  {
   "cell_type": "code",
   "execution_count": 159,
   "metadata": {},
   "outputs": [
    {
     "name": "stdout",
     "output_type": "stream",
     "text": [
      "Average Clustering co-efficient of graph is: 0.768721\n",
      "\n",
      "\n"
     ]
    },
    {
     "data": {
      "text/plain": [
       "Text(0.5,0,'Clustering co-efficient')"
      ]
     },
     "execution_count": 159,
     "metadata": {},
     "output_type": "execute_result"
    },
    {
     "data": {
      "image/png": "[encoded data removed]",
      "text/plain": [
       "<Figure size 432x288 with 1 Axes>"
      ]
     },
     "metadata": {},
     "output_type": "display_data"
    }
   ],
   "source": [
    "print(\"Average Clustering co-efficient of graph is: %f\\n\\n\" % nx.average_clustering(New_Graph))\n",
    "\n",
    "cluster, cnt = dictionary_to_listOfCounts(nx.clustering(New_Graph))\n",
    "\n",
    "fig, ax = plt.subplots()\n",
    "plt.bar(cluster, cnt, width=0.40, color='b')\n",
    "\n",
    "plt.title(\"Clustering co-efficient Histogram\")\n",
    "plt.ylabel(\"Count of Nodes\")\n",
    "plt.xlabel(\"Clustering co-efficient\")"
   ]
  },
  {
   "cell_type": "markdown",
   "metadata": {},
   "source": [
    "# Diameter"
   ]
  },
  {
   "cell_type": "code",
   "execution_count": 160,
   "metadata": {},
   "outputs": [
    {
     "name": "stdout",
     "output_type": "stream",
     "text": [
      "Not a connected graph. Finding diameter for each connected sub-graph\n",
      "6\n",
      "3\n"
     ]
    },
    {
     "data": {
      "image/png": "[encoded data removed]",
      "text/plain": [
       "<Figure size 432x288 with 1 Axes>"
      ]
     },
     "metadata": {},
     "output_type": "display_data"
    },
    {
     "data": {
      "image/png": "[encoded data removed]",
      "text/plain": [
       "<Figure size 432x288 with 1 Axes>"
      ]
     },
     "metadata": {},
     "output_type": "display_data"
    }
   ],
   "source": [
    "if(nx.is_connected(New_Graph)):\n",
    "    print(\"Diameter of entire network is: \" +str(nx.diameter(New_Graph)))\n",
    "else:\n",
    "    print(\"Not a connected graph. Finding diameter for each connected sub-graph\")\n",
    "    i = 0;\n",
    "    for component in nx.connected_component_subgraphs(New_Graph):\n",
    "        print(nx.diameter(component))\n",
    "        eccentricity, cnt = dictionary_to_listOfCounts(nx.eccentricity(component))\n",
    "        i = i+1\n",
    "        fig, ax = plt.subplots()\n",
    "        plt.bar(eccentricity, cnt, width=0.10, color='b')\n",
    "\n",
    "        plt.title(\"Eccentricity Distribution Histogram\")\n",
    "        plt.ylabel(\"Count of Nodes\")\n",
    "        plt.xlabel(\"Eccentricity\")"
   ]
  },
  {
   "cell_type": "markdown",
   "metadata": {},
   "source": [
    "# Closeness"
   ]
  },
  {
   "cell_type": "code",
   "execution_count": 161,
   "metadata": {},
   "outputs": [
    {
     "data": {
      "text/plain": [
       "Text(0.5,0,'Closeness')"
      ]
     },
     "execution_count": 161,
     "metadata": {},
     "output_type": "execute_result"
    },
    {
     "data": {
      "image/png": "[encoded data removed]",
      "text/plain": [
       "<Figure size 432x288 with 1 Axes>"
      ]
     },
     "metadata": {},
     "output_type": "display_data"
    }
   ],
   "source": [
    "# closeness = nx.closeness_centrality(New_Graph)\n",
    "\n",
    "closeness, cnt = dictionary_to_listOfCounts(nx.closeness_centrality(New_Graph))\n",
    "\n",
    "fig, ax = plt.subplots()\n",
    "plt.bar(closeness, cnt, width=0.40, color='b')\n",
    "\n",
    "plt.title(\"Closeness Histogram\")\n",
    "plt.ylabel(\"Count of Nodes\")\n",
    "plt.xlabel(\"Closeness\")\n"
   ]
  },
  {
   "cell_type": "markdown",
   "metadata": {},
   "source": [
    "# Betweenness of Nodes"
   ]
  },
  {
   "cell_type": "code",
   "execution_count": 162,
   "metadata": {},
   "outputs": [
    {
     "data": {
      "text/plain": [
       "Text(0.5,0,'Betweenness')"
      ]
     },
     "execution_count": 162,
     "metadata": {},
     "output_type": "execute_result"
    },
    {
     "data": {
      "image/png": "[encoded data removed]",
      "text/plain": [
       "<Figure size 432x288 with 1 Axes>"
      ]
     },
     "metadata": {},
     "output_type": "display_data"
    }
   ],
   "source": [
    "betweenness, cnt = dictionary_to_listOfCounts(nx.betweenness_centrality(New_Graph))\n",
    "\n",
    "fig, ax = plt.subplots()\n",
    "plt.bar(betweenness, cnt, width=0.20, color='b')\n",
    "\n",
    "plt.title(\"Betweenness of Nodes Distribution Histogram\")\n",
    "plt.ylabel(\"Count of Nodes\")\n",
    "plt.xlabel(\"Betweenness\")\n",
    "\n",
    "# betweenness = nx.betweenness_centrality(New_Graph)\n",
    "\n",
    "# d_view = [ (v,k) for k,v in betweenness.items() ]\n",
    "# d_view.sort(reverse=True) # natively sort tuples by first element\n",
    "# print(color.BOLD + 'Betweenness of Nodes' + color.END)\n",
    "# for v,k in d_view:\n",
    "#     print(\"%s: %f\" % (k,v))"
   ]
  },
  {
   "cell_type": "markdown",
   "metadata": {},
   "source": [
    "# Betweenness of edges"
   ]
  },
  {
   "cell_type": "code",
   "execution_count": 163,
   "metadata": {},
   "outputs": [
    {
     "data": {
      "text/plain": [
       "Text(0.5,0,'Betweenness')"
      ]
     },
     "execution_count": 163,
     "metadata": {},
     "output_type": "execute_result"
    },
    {
     "data": {
      "image/png": "[encoded data removed]",
      "text/plain": [
       "<Figure size 432x288 with 1 Axes>"
      ]
     },
     "metadata": {},
     "output_type": "display_data"
    }
   ],
   "source": [
    "edge_betweenness, cnt = dictionary_to_listOfCounts(nx.edge_betweenness_centrality(New_Graph))\n",
    "\n",
    "fig, ax = plt.subplots()\n",
    "plt.bar(edge_betweenness, cnt, width=0.20, color='b')\n",
    "\n",
    "plt.title(\"Betweenness of Edges Distribution Histogram\")\n",
    "plt.ylabel(\"Count of Nodes\")\n",
    "plt.xlabel(\"Betweenness\")\n",
    "\n",
    "# edge_betweenness = nx.edge_betweenness_centrality(New_Graph)\n",
    "\n",
    "# d_view = [ (v,k) for k,v in edge_betweenness.items() ]\n",
    "# d_view.sort(reverse=True) # natively sort tuples by first element\n",
    "# print(color.BOLD + 'Betweenness of Edges' + color.END)\n",
    "# for v,k in d_view:\n",
    "#     print(\"%s: %f\" % (k,v))"
   ]
  },
  {
   "cell_type": "markdown",
   "metadata": {},
   "source": [
    "# Hits"
   ]
  },
  {
   "cell_type": "code",
   "execution_count": 164,
   "metadata": {},
   "outputs": [
    {
     "data": {
      "text/plain": [
       "Text(0.5,0,'Hits')"
      ]
     },
     "execution_count": 164,
     "metadata": {},
     "output_type": "execute_result"
    },
    {
     "data": {
      "image/png": "[encoded data removed]",
      "text/plain": [
       "<Figure size 432x288 with 1 Axes>"
      ]
     },
     "metadata": {},
     "output_type": "display_data"
    }
   ],
   "source": [
    "hits, cnt = dictionary_to_listOfCounts(nx.hits(component, max_iter=100, tol=1e-04)[0])\n",
    "i = i+1\n",
    "fig, ax = plt.subplots()\n",
    "plt.bar(hits, cnt, width=0.10, color='b')\n",
    "\n",
    "plt.title(\"Hits Distribution Histogram\")\n",
    "plt.ylabel(\"Count of Nodes\")\n",
    "plt.xlabel(\"Hits\")\n",
    "\n",
    "# nx.hits(New_Graph, max_iter=100, tol=1e-04)[1]"
   ]
  },
  {
   "cell_type": "markdown",
   "metadata": {},
   "source": [
    "# Visualizing graph"
   ]
  },
  {
   "cell_type": "code",
   "execution_count": 165,
   "metadata": {},
   "outputs": [
    {
     "data": {
      "image/png": "[encoded data removed]",
      "text/plain": [
       "<Figure size 432x288 with 1 Axes>"
      ]
     },
     "metadata": {},
     "output_type": "display_data"
    }
   ],
   "source": [
    "nx.draw(New_Graph)"
   ]
  },
  {
   "cell_type": "code",
   "execution_count": null,
   "metadata": {},
   "outputs": [],
   "source": []
  }
 ],
 "metadata": {
  "kernelspec": {
   "display_name": "Python 3",
   "language": "python",
   "name": "python3"
  },
  "language_info": {
   "codemirror_mode": {
    "name": "ipython",
    "version": 3
   },
   "file_extension": ".py",
   "mimetype": "text/x-python",
   "name": "python",
   "nbconvert_exporter": "python",
   "pygments_lexer": "ipython3",
   "version": "3.7.0"
  }
 },
 "nbformat": 4,
 "nbformat_minor": 2
}
